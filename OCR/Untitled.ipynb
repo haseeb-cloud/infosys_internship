{
 "cells": [
  {
   "cell_type": "code",
   "execution_count": 1,
   "id": "39c71738-bc18-4a77-9a48-85b34f0e1144",
   "metadata": {},
   "outputs": [
    {
     "name": "stdout",
     "output_type": "stream",
     "text": [
      "Defaulting to user installation because normal site-packages is not writeable\n",
      "Collecting easyocr\n",
      "  Using cached easyocr-1.7.2-py3-none-any.whl.metadata (10 kB)\n",
      "Requirement already satisfied: torch in c:\\users\\haseeb\\appdata\\roaming\\python\\python312\\site-packages (from easyocr) (2.5.1)\n",
      "Requirement already satisfied: torchvision>=0.5 in c:\\users\\haseeb\\appdata\\roaming\\python\\python312\\site-packages (from easyocr) (0.20.1)\n",
      "Requirement already satisfied: opencv-python-headless in c:\\users\\haseeb\\appdata\\roaming\\python\\python312\\site-packages (from easyocr) (4.11.0.86)\n",
      "Requirement already satisfied: scipy in c:\\users\\haseeb\\appdata\\roaming\\python\\python312\\site-packages (from easyocr) (1.15.1)\n",
      "Requirement already satisfied: numpy in c:\\users\\haseeb\\appdata\\roaming\\python\\python312\\site-packages (from easyocr) (2.2.2)\n",
      "Requirement already satisfied: Pillow in c:\\users\\haseeb\\appdata\\roaming\\python\\python312\\site-packages (from easyocr) (11.1.0)\n",
      "Collecting scikit-image (from easyocr)\n",
      "  Downloading scikit_image-0.25.0-cp312-cp312-win_amd64.whl.metadata (14 kB)\n",
      "Collecting python-bidi (from easyocr)\n",
      "  Downloading python_bidi-0.6.3-cp312-none-win_amd64.whl.metadata (5.0 kB)\n",
      "Requirement already satisfied: PyYAML in c:\\users\\haseeb\\appdata\\roaming\\python\\python312\\site-packages (from easyocr) (6.0.2)\n",
      "Collecting Shapely (from easyocr)\n",
      "  Downloading shapely-2.0.6-cp312-cp312-win_amd64.whl.metadata (7.2 kB)\n",
      "Collecting pyclipper (from easyocr)\n",
      "  Downloading pyclipper-1.3.0.post6-cp312-cp312-win_amd64.whl.metadata (9.2 kB)\n",
      "Collecting ninja (from easyocr)\n",
      "  Using cached ninja-1.11.1.3-py3-none-win_amd64.whl.metadata (5.3 kB)\n",
      "Requirement already satisfied: filelock in c:\\users\\haseeb\\appdata\\roaming\\python\\python312\\site-packages (from torch->easyocr) (3.17.0)\n",
      "Requirement already satisfied: typing-extensions>=4.8.0 in c:\\users\\haseeb\\appdata\\roaming\\python\\python312\\site-packages (from torch->easyocr) (4.12.2)\n",
      "Requirement already satisfied: networkx in c:\\users\\haseeb\\appdata\\roaming\\python\\python312\\site-packages (from torch->easyocr) (3.4.2)\n",
      "Requirement already satisfied: jinja2 in c:\\users\\haseeb\\appdata\\roaming\\python\\python312\\site-packages (from torch->easyocr) (3.1.5)\n",
      "Requirement already satisfied: fsspec in c:\\users\\haseeb\\appdata\\roaming\\python\\python312\\site-packages (from torch->easyocr) (2024.12.0)\n",
      "Requirement already satisfied: setuptools in c:\\users\\haseeb\\appdata\\roaming\\python\\python312\\site-packages (from torch->easyocr) (75.8.0)\n",
      "Requirement already satisfied: sympy==1.13.1 in c:\\users\\haseeb\\appdata\\roaming\\python\\python312\\site-packages (from torch->easyocr) (1.13.1)\n",
      "Requirement already satisfied: mpmath<1.4,>=1.1.0 in c:\\users\\haseeb\\appdata\\roaming\\python\\python312\\site-packages (from sympy==1.13.1->torch->easyocr) (1.3.0)\n",
      "Collecting imageio!=2.35.0,>=2.33 (from scikit-image->easyocr)\n",
      "  Downloading imageio-2.37.0-py3-none-any.whl.metadata (5.2 kB)\n",
      "Collecting tifffile>=2022.8.12 (from scikit-image->easyocr)\n",
      "  Downloading tifffile-2025.1.10-py3-none-any.whl.metadata (31 kB)\n",
      "Requirement already satisfied: packaging>=21 in c:\\users\\haseeb\\appdata\\roaming\\python\\python312\\site-packages (from scikit-image->easyocr) (24.2)\n",
      "Collecting lazy-loader>=0.4 (from scikit-image->easyocr)\n",
      "  Downloading lazy_loader-0.4-py3-none-any.whl.metadata (7.6 kB)\n",
      "Requirement already satisfied: MarkupSafe>=2.0 in c:\\users\\haseeb\\appdata\\roaming\\python\\python312\\site-packages (from jinja2->torch->easyocr) (3.0.2)\n",
      "Downloading easyocr-1.7.2-py3-none-any.whl (2.9 MB)\n",
      "   ---------------------------------------- 0.0/2.9 MB ? eta -:--:--\n",
      "   --- ------------------------------------ 0.3/2.9 MB ? eta -:--:--\n",
      "   -------------- ------------------------- 1.0/2.9 MB 3.0 MB/s eta 0:00:01\n",
      "   ------------------------- -------------- 1.8/2.9 MB 3.5 MB/s eta 0:00:01\n",
      "   ---------------------------------------- 2.9/2.9 MB 3.6 MB/s eta 0:00:00\n",
      "Using cached ninja-1.11.1.3-py3-none-win_amd64.whl (296 kB)\n",
      "Downloading pyclipper-1.3.0.post6-cp312-cp312-win_amd64.whl (110 kB)\n",
      "Downloading python_bidi-0.6.3-cp312-none-win_amd64.whl (156 kB)\n",
      "Downloading scikit_image-0.25.0-cp312-cp312-win_amd64.whl (12.9 MB)\n",
      "   ---------------------------------------- 0.0/12.9 MB ? eta -:--:--\n",
      "   -- ------------------------------------- 0.8/12.9 MB 4.8 MB/s eta 0:00:03\n",
      "   ----- ---------------------------------- 1.8/12.9 MB 4.8 MB/s eta 0:00:03\n",
      "   -------- ------------------------------- 2.9/12.9 MB 4.7 MB/s eta 0:00:03\n",
      "   ---------- ----------------------------- 3.4/12.9 MB 4.4 MB/s eta 0:00:03\n",
      "   ----------- ---------------------------- 3.7/12.9 MB 4.0 MB/s eta 0:00:03\n",
      "   ------------- -------------------------- 4.5/12.9 MB 3.7 MB/s eta 0:00:03\n",
      "   ---------------- ----------------------- 5.2/12.9 MB 3.7 MB/s eta 0:00:03\n",
      "   ------------------ --------------------- 6.0/12.9 MB 3.7 MB/s eta 0:00:02\n",
      "   ---------------------- ----------------- 7.3/12.9 MB 3.9 MB/s eta 0:00:02\n",
      "   -------------------------- ------------- 8.4/12.9 MB 4.1 MB/s eta 0:00:02\n",
      "   ------------------------------ --------- 9.7/12.9 MB 4.3 MB/s eta 0:00:01\n",
      "   ---------------------------------- ----- 11.0/12.9 MB 4.5 MB/s eta 0:00:01\n",
      "   ------------------------------------- -- 12.1/12.9 MB 4.4 MB/s eta 0:00:01\n",
      "   ---------------------------------------  12.6/12.9 MB 4.3 MB/s eta 0:00:01\n",
      "   ---------------------------------------- 12.9/12.9 MB 4.2 MB/s eta 0:00:00\n",
      "Downloading shapely-2.0.6-cp312-cp312-win_amd64.whl (1.4 MB)\n",
      "   ---------------------------------------- 0.0/1.4 MB ? eta -:--:--\n",
      "   --------------------- ------------------ 0.8/1.4 MB 4.2 MB/s eta 0:00:01\n",
      "   ---------------------------------------- 1.4/1.4 MB 3.8 MB/s eta 0:00:00\n",
      "Downloading imageio-2.37.0-py3-none-any.whl (315 kB)\n",
      "Downloading lazy_loader-0.4-py3-none-any.whl (12 kB)\n",
      "Downloading tifffile-2025.1.10-py3-none-any.whl (227 kB)\n",
      "Installing collected packages: python-bidi, pyclipper, tifffile, Shapely, ninja, lazy-loader, imageio, scikit-image, easyocr\n",
      "Successfully installed Shapely-2.0.6 easyocr-1.7.2 imageio-2.37.0 lazy-loader-0.4 ninja-1.11.1.3 pyclipper-1.3.0.post6 python-bidi-0.6.3 scikit-image-0.25.0 tifffile-2025.1.10\n"
     ]
    }
   ],
   "source": [
    "!pip install easyocr"
   ]
  },
  {
   "cell_type": "code",
   "execution_count": 2,
   "id": "08e98d66-91a2-4671-80f1-41a9f3596cc5",
   "metadata": {},
   "outputs": [],
   "source": [
    "from ultralytics import YOLO\n",
    "import easyocr\n",
    "import cv2"
   ]
  },
  {
   "cell_type": "code",
   "execution_count": 3,
   "id": "f7a5bca7-3563-484c-bc85-ef07d348b60f",
   "metadata": {},
   "outputs": [],
   "source": [
    "model = YOLO(r\"C:\\infosys intern\\detection model\\runs\\detect\\train\\weights\\best.pt\")"
   ]
  },
  {
   "cell_type": "code",
   "execution_count": 4,
   "id": "9ee40e1c-dae1-4d61-956e-e6d3acf45422",
   "metadata": {},
   "outputs": [
    {
     "name": "stderr",
     "output_type": "stream",
     "text": [
      "Neither CUDA nor MPS are available - defaulting to CPU. Note: This module is much faster with a GPU.\n",
      "Downloading detection model, please wait. This may take several minutes depending upon your network connection.\n"
     ]
    },
    {
     "name": "stdout",
     "output_type": "stream",
     "text": [
      "Progress: |██████████████████████████████████████████████████| 100.0% Complete"
     ]
    },
    {
     "name": "stderr",
     "output_type": "stream",
     "text": [
      "Downloading recognition model, please wait. This may take several minutes depending upon your network connection.\n"
     ]
    },
    {
     "name": "stdout",
     "output_type": "stream",
     "text": [
      "Progress: |██████████████████████████████████████████████████| 100.0% Complete"
     ]
    }
   ],
   "source": [
    "reader = easyocr.Reader(['en'])"
   ]
  },
  {
   "cell_type": "code",
   "execution_count": 6,
   "id": "03db5627-1451-4517-b80e-4664f24daf67",
   "metadata": {},
   "outputs": [
    {
     "name": "stdout",
     "output_type": "stream",
     "text": [
      "\n",
      "image 1/1 C:\\infosys intern\\Classification model\\classification_dataset\\train\\aadhar\\1.jpg: 640x512 2 names, 2 uids, 2 addressss, 220.4ms\n",
      "Speed: 7.0ms preprocess, 220.4ms inference, 1.0ms postprocess per image at shape (1, 3, 640, 512)\n"
     ]
    }
   ],
   "source": [
    "image_path = r\"C:\\infosys intern\\Classification model\\classification_dataset\\train\\aadhar\\1.jpg\"\n",
    "results = model(image_path)"
   ]
  },
  {
   "cell_type": "code",
   "execution_count": 8,
   "id": "d3d98414-d630-4508-b7c4-477f5e72232d",
   "metadata": {},
   "outputs": [],
   "source": [
    "image = cv2.imread(image_path)\n",
    "extracted_data = {}"
   ]
  },
  {
   "cell_type": "code",
   "execution_count": 9,
   "id": "298444ae-493f-4322-af45-38cceba2240b",
   "metadata": {},
   "outputs": [],
   "source": [
    "for result in results[0].boxes.data.tolist():  # results[0].boxes.data contains bounding box details\n",
    "    x1, y1, x2, y2, confidence, class_id = map(int, result[:6])\n",
    "    field_class = model.names[class_id]  # Get class name (e.g., 'Name', 'UID', 'Address')\n",
    "\n",
    "    # Crop the detected region\n",
    "    cropped_roi = image[y1:y2, x1:x2]\n",
    "\n",
    "    # Convert cropped ROI to grayscale for OCR\n",
    "    gray_roi = cv2.cvtColor(cropped_roi, cv2.COLOR_BGR2GRAY)\n",
    "\n",
    "    # Use EasyOCR to extract text\n",
    "    text = reader.readtext(gray_roi, detail=0)  # detail=0 returns only the text\n",
    "\n",
    "    # Save the text to the extracted_data dictionary\n",
    "    extracted_data[field_class] = ' '.join(text)"
   ]
  },
  {
   "cell_type": "code",
   "execution_count": 10,
   "id": "bf1b88b8-963d-4506-a788-c769accf9394",
   "metadata": {},
   "outputs": [
    {
     "name": "stdout",
     "output_type": "stream",
     "text": [
      "Extracted Data: {'addresss': 'FLAT Us bUj GANGA UUNSTELLA EON IT PARK KHARADI Pune Dukirkline Pune Maharashtra 411014 City', 'uid': '3818 8009 2292', 'name': 'Manoj Kumar Rana'}\n"
     ]
    }
   ],
   "source": [
    "print(\"Extracted Data:\", extracted_data)"
   ]
  },
  {
   "cell_type": "code",
   "execution_count": null,
   "id": "13ee5886-49ba-40db-a881-69b7f0485b3e",
   "metadata": {},
   "outputs": [],
   "source": []
  }
 ],
 "metadata": {
  "kernelspec": {
   "display_name": "Python 3 (ipykernel)",
   "language": "python",
   "name": "python3"
  },
  "language_info": {
   "codemirror_mode": {
    "name": "ipython",
    "version": 3
   },
   "file_extension": ".py",
   "mimetype": "text/x-python",
   "name": "python",
   "nbconvert_exporter": "python",
   "pygments_lexer": "ipython3",
   "version": "3.12.8"
  }
 },
 "nbformat": 4,
 "nbformat_minor": 5
}
